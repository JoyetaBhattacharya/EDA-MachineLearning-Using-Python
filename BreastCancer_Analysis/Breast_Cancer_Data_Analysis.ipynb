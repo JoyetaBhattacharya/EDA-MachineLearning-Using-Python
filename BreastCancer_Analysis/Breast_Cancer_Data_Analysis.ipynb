{
 "cells": [
  {
   "cell_type": "markdown",
   "metadata": {},
   "source": [
    "# Exploratory Data Analysis -- Breast Cancer Data"
   ]
  },
  {
   "cell_type": "markdown",
   "metadata": {},
   "source": [
    "# Table of Contents\n",
    "1. [Problem Statement](#section1)<br>\n",
    "    - 1.1 [Introduction](#section101)<br/>\n",
    "    - 1.2 [Description of Problem Statement](#section102)<br/>\n",
    "2. [Data Loading and Description](#section2)\n",
    "    - 2.1 [Data Source and the dataset](#section201)<br/>\n",
    "    - 2.2 [Data Loading](#section202)<br/>  \n",
    "3. [Data Profiling](#section3)\n",
    "    - 3.1 [Understanding the Dataset](#section301)<br/>\n",
    "    - 3.2 [Pre Profiling](#section302)<br/>\n",
    "    - 3.3 [Preprocessing](#section303)<br/>\n",
    "    - 3.4 [Post Profiling](#section304)<br/>\n",
    "4. [Questions](#section4)\n",
    "    - 4.1 [How many women were survived less than 5 years and how many more than 5years?](#section401)<br/>\n",
    "    - 4.2 [Is the survival getting impacted with Age and cancer statge??](#section402)<br/>\n",
    "    - 4.3 [Is the survival  impacted with different cancer statge?](#section403)<br/>\n",
    "    - 4.4 [Is there any imapct of number of Pos_axillary_nodes on the survival status for different ages?](#section404)<br/>\n",
    "    - 4.5 [ Is there any difference in Success rate as per year of operation ?](#section405)<br/>\n",
    "    - 4.6 [Establish coorelation between all the features using heatmap.](#section406)<br/>\n",
    "5. [Conclusions](#section5)<br/>  "
   ]
  },
  {
   "cell_type": "markdown",
   "metadata": {},
   "source": [
    "<a id=section1></a>"
   ]
  },
  {
   "cell_type": "markdown",
   "metadata": {},
   "source": [
    "## 1. Problem Statement"
   ]
  },
  {
   "cell_type": "markdown",
   "metadata": {},
   "source": [
    "<a id=section101></a>\n",
    "### 1.1. Introduction"
   ]
  },
  {
   "cell_type": "markdown",
   "metadata": {},
   "source": [
    "Breast cancer is the most commonly diagnosed cancer in women. It is the second leading cause of cancer death among women. Breast cancer starts out with just a few cells, As these cells grow and divide, they may also invade nearby tissue—including lymph nodes.\n",
    "Lymphatic system is a network of organs, vessels and lymph nodes situated throughout your body. Lymph system works to circulate blood to provide nutrients to all the cells. So, due to infection in body, the lymp node near the affected area may swell because they have collected germs.If someone develops breast cancer, the lymph nodes in armpit are the most common area that cancer cells will lodge, which also causes the nodes to swell. "
   ]
  },
  {
   "cell_type": "markdown",
   "metadata": {},
   "source": [
    "If the lymph nodes are clear of cancer, lymph node status is called negative or non-invensive. The cancer stage is zeor or 1.\n",
    "If someone has cancer cells in the lymph nodes, that cancer is considered lymph node-positive or positive axillary nodes. \n",
    "Breast cancer with positive axillary nodes has different stages - stage 2, stage 3 and stage 4.  "
   ]
  },
  {
   "cell_type": "markdown",
   "metadata": {},
   "source": [
    "<a id=section102></a>\n",
    "### 1.2 Description of Problem Statement"
   ]
  },
  {
   "cell_type": "markdown",
   "metadata": {},
   "source": [
    "This exploratory data analysis will help us to understand chances of women to get dignosed with Breastcancer with ages and how survival is getting impacted with number of positive axillary nodes."
   ]
  },
  {
   "cell_type": "markdown",
   "metadata": {},
   "source": [
    "<a id=section2></a>\n",
    "## 2. Data Description and Loading  "
   ]
  },
  {
   "cell_type": "markdown",
   "metadata": {},
   "source": [
    "<a id=section201></a>\n",
    "### 2.1 Data Source and the dataset"
   ]
  },
  {
   "cell_type": "markdown",
   "metadata": {},
   "source": [
    "**Description:** The dataset contains cases from a study that was conducted between **1958 and 1970** at the **University of Chicago's Billings Hospital** on the survival of patients who had undergone surgery for breast cancer."
   ]
  },
  {
   "cell_type": "markdown",
   "metadata": {},
   "source": [
    "**The Attribute information of the Dataset ::**\n",
    "\n",
    "1. Age of patient at time of operation (numerical) \n",
    "2. Patient's year of operation (year - 1900, numerical) \n",
    "3. Number of positive axillary nodes detected (numerical) \n",
    "4. Survival status (class attribute) \n",
    "    - Status-1: The patient survived 5 years or longer \n",
    "    - Status-2: The patient died within 5 year"
   ]
  },
  {
   "cell_type": "markdown",
   "metadata": {},
   "source": [
    "<a id=section202></a>"
   ]
  },
  {
   "cell_type": "markdown",
   "metadata": {},
   "source": [
    "### 2.2 Data Loading"
   ]
  },
  {
   "cell_type": "markdown",
   "metadata": {},
   "source": [
    "#### Installing Pandas_Profiling and Importing packages"
   ]
  },
  {
   "cell_type": "code",
   "execution_count": 2,
   "metadata": {},
   "outputs": [
    {
     "name": "stdout",
     "output_type": "stream",
     "text": [
      "Collecting pandas_profiling\n",
      "  Downloading https://files.pythonhosted.org/packages/2c/2f/aae19e2173c10a9bb7fee5f5cad35dbe53a393960fc91abc477dcc4661e8/pandas-profiling-2.3.0.tar.gz (127kB)\n",
      "Requirement already satisfied: pandas>=0.19 in c:\\anaconda\\lib\\site-packages (from pandas_profiling) (0.24.2)\n",
      "Requirement already satisfied: matplotlib>=1.4 in c:\\anaconda\\lib\\site-packages (from pandas_profiling) (3.0.3)\n",
      "Requirement already satisfied: jinja2>=2.8 in c:\\anaconda\\lib\\site-packages (from pandas_profiling) (2.10)\n",
      "Collecting missingno>=0.4.2 (from pandas_profiling)\n",
      "  Downloading https://files.pythonhosted.org/packages/2b/de/6e4dd6d720c49939544352155dc06a08c9f7e4271aa631a559dfbeaaf9d4/missingno-0.4.2-py3-none-any.whl\n",
      "Collecting htmlmin>=0.1.12 (from pandas_profiling)\n",
      "  Downloading https://files.pythonhosted.org/packages/b3/e7/fcd59e12169de19f0131ff2812077f964c6b960e7c09804d30a7bf2ab461/htmlmin-0.1.12.tar.gz\n",
      "Collecting phik>=0.9.8 (from pandas_profiling)\n",
      "  Downloading https://files.pythonhosted.org/packages/45/ad/24a16fa4ba612fb96a3c4bb115a5b9741483f53b66d3d3afd987f20fa227/phik-0.9.8-py3-none-any.whl (606kB)\n",
      "Collecting confuse>=1.0.0 (from pandas_profiling)\n",
      "  Downloading https://files.pythonhosted.org/packages/4c/6f/90e860cba937c174d8b3775729ccc6377eb91f52ad4eeb008e7252a3646d/confuse-1.0.0.tar.gz\n",
      "Requirement already satisfied: astropy in c:\\anaconda\\lib\\site-packages (from pandas_profiling) (3.1.2)\n",
      "Requirement already satisfied: python-dateutil>=2.5.0 in c:\\anaconda\\lib\\site-packages (from pandas>=0.19->pandas_profiling) (2.8.0)\n",
      "Requirement already satisfied: numpy>=1.12.0 in c:\\anaconda\\lib\\site-packages (from pandas>=0.19->pandas_profiling) (1.16.2)\n",
      "Requirement already satisfied: pytz>=2011k in c:\\anaconda\\lib\\site-packages (from pandas>=0.19->pandas_profiling) (2018.9)\n",
      "Requirement already satisfied: cycler>=0.10 in c:\\anaconda\\lib\\site-packages (from matplotlib>=1.4->pandas_profiling) (0.10.0)\n",
      "Requirement already satisfied: kiwisolver>=1.0.1 in c:\\anaconda\\lib\\site-packages (from matplotlib>=1.4->pandas_profiling) (1.0.1)\n",
      "Requirement already satisfied: pyparsing!=2.0.4,!=2.1.2,!=2.1.6,>=2.0.1 in c:\\anaconda\\lib\\site-packages (from matplotlib>=1.4->pandas_profiling) (2.3.1)\n",
      "Requirement already satisfied: MarkupSafe>=0.23 in c:\\anaconda\\lib\\site-packages (from jinja2>=2.8->pandas_profiling) (1.1.1)\n",
      "Requirement already satisfied: seaborn in c:\\anaconda\\lib\\site-packages (from missingno>=0.4.2->pandas_profiling) (0.9.0)\n",
      "Requirement already satisfied: scipy in c:\\anaconda\\lib\\site-packages (from missingno>=0.4.2->pandas_profiling) (1.2.1)\n",
      "Requirement already satisfied: jupyter-client>=5.2.3 in c:\\anaconda\\lib\\site-packages (from phik>=0.9.8->pandas_profiling) (5.2.4)\n",
      "Requirement already satisfied: nbconvert>=5.3.1 in c:\\anaconda\\lib\\site-packages (from phik>=0.9.8->pandas_profiling) (5.4.1)\n",
      "Requirement already satisfied: numba>=0.38.1 in c:\\anaconda\\lib\\site-packages (from phik>=0.9.8->pandas_profiling) (0.43.1)\n",
      "Requirement already satisfied: pytest>=4.0.2 in c:\\anaconda\\lib\\site-packages (from phik>=0.9.8->pandas_profiling) (4.3.1)\n",
      "Collecting pytest-pylint>=0.13.0 (from phik>=0.9.8->pandas_profiling)\n",
      "  Downloading https://files.pythonhosted.org/packages/64/dc/6f35f114844fb12e38d60c4f3d2441a55baff7043ad4e013777dff55746c/pytest_pylint-0.14.1-py3-none-any.whl\n",
      "Requirement already satisfied: pyyaml in c:\\anaconda\\lib\\site-packages (from confuse>=1.0.0->pandas_profiling) (5.1)\n",
      "Requirement already satisfied: six>=1.5 in c:\\anaconda\\lib\\site-packages (from python-dateutil>=2.5.0->pandas>=0.19->pandas_profiling) (1.12.0)\n",
      "Requirement already satisfied: setuptools in c:\\anaconda\\lib\\site-packages (from kiwisolver>=1.0.1->matplotlib>=1.4->pandas_profiling) (40.8.0)\n",
      "Requirement already satisfied: jupyter-core in c:\\anaconda\\lib\\site-packages (from jupyter-client>=5.2.3->phik>=0.9.8->pandas_profiling) (4.4.0)\n",
      "Requirement already satisfied: pyzmq>=13 in c:\\anaconda\\lib\\site-packages (from jupyter-client>=5.2.3->phik>=0.9.8->pandas_profiling) (18.0.0)\n",
      "Requirement already satisfied: traitlets in c:\\anaconda\\lib\\site-packages (from jupyter-client>=5.2.3->phik>=0.9.8->pandas_profiling) (4.3.2)\n",
      "Requirement already satisfied: tornado>=4.1 in c:\\anaconda\\lib\\site-packages (from jupyter-client>=5.2.3->phik>=0.9.8->pandas_profiling) (6.0.2)\n",
      "Requirement already satisfied: mistune>=0.8.1 in c:\\anaconda\\lib\\site-packages (from nbconvert>=5.3.1->phik>=0.9.8->pandas_profiling) (0.8.4)\n",
      "Requirement already satisfied: pygments in c:\\anaconda\\lib\\site-packages (from nbconvert>=5.3.1->phik>=0.9.8->pandas_profiling) (2.3.1)\n",
      "Requirement already satisfied: nbformat>=4.4 in c:\\anaconda\\lib\\site-packages (from nbconvert>=5.3.1->phik>=0.9.8->pandas_profiling) (4.4.0)\n",
      "Requirement already satisfied: entrypoints>=0.2.2 in c:\\anaconda\\lib\\site-packages (from nbconvert>=5.3.1->phik>=0.9.8->pandas_profiling) (0.3)\n",
      "Requirement already satisfied: bleach in c:\\anaconda\\lib\\site-packages (from nbconvert>=5.3.1->phik>=0.9.8->pandas_profiling) (3.1.0)\n",
      "Requirement already satisfied: pandocfilters>=1.4.1 in c:\\anaconda\\lib\\site-packages (from nbconvert>=5.3.1->phik>=0.9.8->pandas_profiling) (1.4.2)\n",
      "Requirement already satisfied: testpath in c:\\anaconda\\lib\\site-packages (from nbconvert>=5.3.1->phik>=0.9.8->pandas_profiling) (0.4.2)\n",
      "Requirement already satisfied: defusedxml in c:\\anaconda\\lib\\site-packages (from nbconvert>=5.3.1->phik>=0.9.8->pandas_profiling) (0.5.0)\n",
      "Requirement already satisfied: llvmlite>=0.28.0dev0 in c:\\anaconda\\lib\\site-packages (from numba>=0.38.1->phik>=0.9.8->pandas_profiling) (0.28.0)\n",
      "Requirement already satisfied: py>=1.5.0 in c:\\anaconda\\lib\\site-packages (from pytest>=4.0.2->phik>=0.9.8->pandas_profiling) (1.8.0)\n",
      "Requirement already satisfied: attrs>=17.4.0 in c:\\anaconda\\lib\\site-packages (from pytest>=4.0.2->phik>=0.9.8->pandas_profiling) (19.1.0)\n",
      "Requirement already satisfied: atomicwrites>=1.0 in c:\\anaconda\\lib\\site-packages (from pytest>=4.0.2->phik>=0.9.8->pandas_profiling) (1.3.0)\n",
      "Requirement already satisfied: pluggy>=0.7 in c:\\anaconda\\lib\\site-packages (from pytest>=4.0.2->phik>=0.9.8->pandas_profiling) (0.9.0)\n",
      "Requirement already satisfied: more-itertools>=4.0.0 in c:\\anaconda\\lib\\site-packages (from pytest>=4.0.2->phik>=0.9.8->pandas_profiling) (6.0.0)\n",
      "Requirement already satisfied: colorama in c:\\anaconda\\lib\\site-packages (from pytest>=4.0.2->phik>=0.9.8->pandas_profiling) (0.4.1)\n",
      "Requirement already satisfied: pylint>=1.4.5 in c:\\anaconda\\lib\\site-packages (from pytest-pylint>=0.13.0->phik>=0.9.8->pandas_profiling) (2.3.1)\n",
      "Requirement already satisfied: decorator in c:\\anaconda\\lib\\site-packages (from traitlets->jupyter-client>=5.2.3->phik>=0.9.8->pandas_profiling) (4.4.0)\n",
      "Requirement already satisfied: ipython-genutils in c:\\anaconda\\lib\\site-packages (from traitlets->jupyter-client>=5.2.3->phik>=0.9.8->pandas_profiling) (0.2.0)\n",
      "Requirement already satisfied: jsonschema!=2.5.0,>=2.4 in c:\\anaconda\\lib\\site-packages (from nbformat>=4.4->nbconvert>=5.3.1->phik>=0.9.8->pandas_profiling) (3.0.1)\n",
      "Requirement already satisfied: webencodings in c:\\anaconda\\lib\\site-packages (from bleach->nbconvert>=5.3.1->phik>=0.9.8->pandas_profiling) (0.5.1)\n",
      "Requirement already satisfied: astroid<3,>=2.2.0 in c:\\anaconda\\lib\\site-packages (from pylint>=1.4.5->pytest-pylint>=0.13.0->phik>=0.9.8->pandas_profiling) (2.2.5)\n",
      "Requirement already satisfied: isort<5,>=4.2.5 in c:\\anaconda\\lib\\site-packages (from pylint>=1.4.5->pytest-pylint>=0.13.0->phik>=0.9.8->pandas_profiling) (4.3.16)\n",
      "Requirement already satisfied: mccabe<0.7,>=0.6 in c:\\anaconda\\lib\\site-packages (from pylint>=1.4.5->pytest-pylint>=0.13.0->phik>=0.9.8->pandas_profiling) (0.6.1)\n",
      "Requirement already satisfied: pyrsistent>=0.14.0 in c:\\anaconda\\lib\\site-packages (from jsonschema!=2.5.0,>=2.4->nbformat>=4.4->nbconvert>=5.3.1->phik>=0.9.8->pandas_profiling) (0.14.11)\n",
      "Requirement already satisfied: wrapt in c:\\anaconda\\lib\\site-packages (from astroid<3,>=2.2.0->pylint>=1.4.5->pytest-pylint>=0.13.0->phik>=0.9.8->pandas_profiling) (1.11.1)\n",
      "Collecting typed-ast>=1.3.0; implementation_name == \"cpython\" (from astroid<3,>=2.2.0->pylint>=1.4.5->pytest-pylint>=0.13.0->phik>=0.9.8->pandas_profiling)\n",
      "  Downloading https://files.pythonhosted.org/packages/47/a1/7a24868c15d84ed7446106d6c3d73807f58232a695452c0a29679e5a1523/typed_ast-1.4.0-cp37-cp37m-win_amd64.whl (155kB)\n",
      "Requirement already satisfied: lazy-object-proxy in c:\\anaconda\\lib\\site-packages (from astroid<3,>=2.2.0->pylint>=1.4.5->pytest-pylint>=0.13.0->phik>=0.9.8->pandas_profiling) (1.3.1)\n",
      "Building wheels for collected packages: pandas-profiling, htmlmin, confuse\n",
      "  Building wheel for pandas-profiling (setup.py): started\n",
      "  Building wheel for pandas-profiling (setup.py): finished with status 'done'\n",
      "  Stored in directory: C:\\Users\\JoyetaBhattacharya\\AppData\\Local\\pip\\Cache\\wheels\\ce\\c7\\f1\\dbfef4848ebb048cb1d4a22d1ed0c62d8ff2523747235e19fe\n",
      "  Building wheel for htmlmin (setup.py): started\n",
      "  Building wheel for htmlmin (setup.py): finished with status 'done'\n",
      "  Stored in directory: C:\\Users\\JoyetaBhattacharya\\AppData\\Local\\pip\\Cache\\wheels\\43\\07\\ac\\7c5a9d708d65247ac1f94066cf1db075540b85716c30255459\n",
      "  Building wheel for confuse (setup.py): started\n",
      "  Building wheel for confuse (setup.py): finished with status 'done'\n",
      "  Stored in directory: C:\\Users\\JoyetaBhattacharya\\AppData\\Local\\pip\\Cache\\wheels\\b0\\b2\\96\\2074eee7dbf7b7df69d004c9b6ac4e32dad04fb7666cf943bd\n",
      "Successfully built pandas-profiling htmlmin confuse\n",
      "Installing collected packages: missingno, htmlmin, pytest-pylint, phik, confuse, pandas-profiling, typed-ast\n",
      "Successfully installed confuse-1.0.0 htmlmin-0.1.12 missingno-0.4.2 pandas-profiling-2.3.0 phik-0.9.8 pytest-pylint-0.14.1 typed-ast-1.4.0\n",
      "Note: you may need to restart the kernel to use updated packages.\n"
     ]
    }
   ],
   "source": [
    "pip install pandas_profiling"
   ]
  },
  {
   "cell_type": "markdown",
   "metadata": {},
   "source": [
    "#### Importing  Packages"
   ]
  },
  {
   "cell_type": "code",
   "execution_count": 2,
   "metadata": {},
   "outputs": [],
   "source": [
    "import numpy as np                                                 # Implemennts milti-dimensional array and matrices\n",
    "import pandas as pd                                                # For data manipulation and analysis\n",
    "import pandas_profiling\n",
    "import matplotlib.pyplot as plt                                    # Plotting library for Python programming language and it's numerical mathematics extension NumPy\n",
    "import seaborn as sns                                              # Provides a high level interface for drawing attractive and informative statistical graphics\n",
    "%matplotlib inline"
   ]
  },
  {
   "cell_type": "markdown",
   "metadata": {},
   "source": [
    "##### Importing the Dataset"
   ]
  },
  {
   "cell_type": "code",
   "execution_count": 3,
   "metadata": {},
   "outputs": [
    {
     "data": {
      "text/html": [
       "<div>\n",
       "<style scoped>\n",
       "    .dataframe tbody tr th:only-of-type {\n",
       "        vertical-align: middle;\n",
       "    }\n",
       "\n",
       "    .dataframe tbody tr th {\n",
       "        vertical-align: top;\n",
       "    }\n",
       "\n",
       "    .dataframe thead th {\n",
       "        text-align: right;\n",
       "    }\n",
       "</style>\n",
       "<table border=\"1\" class=\"dataframe\">\n",
       "  <thead>\n",
       "    <tr style=\"text-align: right;\">\n",
       "      <th></th>\n",
       "      <th>Age</th>\n",
       "      <th>Years_of_operation</th>\n",
       "      <th>Pos_axillary_nodes</th>\n",
       "      <th>Status</th>\n",
       "    </tr>\n",
       "  </thead>\n",
       "  <tbody>\n",
       "    <tr>\n",
       "      <th>0</th>\n",
       "      <td>30</td>\n",
       "      <td>64</td>\n",
       "      <td>1</td>\n",
       "      <td>1</td>\n",
       "    </tr>\n",
       "    <tr>\n",
       "      <th>1</th>\n",
       "      <td>30</td>\n",
       "      <td>62</td>\n",
       "      <td>3</td>\n",
       "      <td>1</td>\n",
       "    </tr>\n",
       "    <tr>\n",
       "      <th>2</th>\n",
       "      <td>30</td>\n",
       "      <td>65</td>\n",
       "      <td>0</td>\n",
       "      <td>1</td>\n",
       "    </tr>\n",
       "    <tr>\n",
       "      <th>3</th>\n",
       "      <td>31</td>\n",
       "      <td>59</td>\n",
       "      <td>2</td>\n",
       "      <td>1</td>\n",
       "    </tr>\n",
       "    <tr>\n",
       "      <th>4</th>\n",
       "      <td>31</td>\n",
       "      <td>65</td>\n",
       "      <td>4</td>\n",
       "      <td>1</td>\n",
       "    </tr>\n",
       "  </tbody>\n",
       "</table>\n",
       "</div>"
      ],
      "text/plain": [
       "   Age  Years_of_operation  Pos_axillary_nodes  Status\n",
       "0   30                  64                   1       1\n",
       "1   30                  62                   3       1\n",
       "2   30                  65                   0       1\n",
       "3   31                  59                   2       1\n",
       "4   31                  65                   4       1"
      ]
     },
     "execution_count": 3,
     "metadata": {},
     "output_type": "execute_result"
    }
   ],
   "source": [
    "BreastCancer_data = pd.read_csv(\"https://raw.githubusercontent.com/insaid2018/Term-1/master/Data/Projects/Breast_cancer_survival.csv\")     # Importing training dataset using pd.read_csv\n",
    "\n",
    "BreastCancer_data.head()"
   ]
  },
  {
   "cell_type": "markdown",
   "metadata": {},
   "source": [
    "<a id=section3></a>"
   ]
  },
  {
   "cell_type": "markdown",
   "metadata": {},
   "source": [
    "## 3. Data Profiling"
   ]
  },
  {
   "cell_type": "markdown",
   "metadata": {},
   "source": [
    "<a id=section301></a>"
   ]
  },
  {
   "cell_type": "markdown",
   "metadata": {},
   "source": [
    "### 3.1 Understanding the Dataset"
   ]
  },
  {
   "cell_type": "code",
   "execution_count": 3,
   "metadata": {},
   "outputs": [
    {
     "data": {
      "text/plain": [
       "(306, 4)"
      ]
     },
     "execution_count": 3,
     "metadata": {},
     "output_type": "execute_result"
    }
   ],
   "source": [
    "BreastCancer_data.shape   # Find out number of rows and column in the data frame. "
   ]
  },
  {
   "cell_type": "markdown",
   "metadata": {},
   "source": [
    "There are 306 rows and 4 columns for the Breast_Cancer dataset"
   ]
  },
  {
   "cell_type": "code",
   "execution_count": 4,
   "metadata": {},
   "outputs": [
    {
     "data": {
      "text/plain": [
       "Index(['Age', 'Years_of_operation', 'Pos_axillary_nodes', 'Status'], dtype='object')"
      ]
     },
     "execution_count": 4,
     "metadata": {},
     "output_type": "execute_result"
    }
   ],
   "source": [
    "BreastCancer_data.columns   # Name of the columns in the data frame. "
   ]
  },
  {
   "cell_type": "markdown",
   "metadata": {},
   "source": [
    "The name of the columns are --> 'Age', 'Years_of_operation', 'Pos_axillary_nodes', 'Status'"
   ]
  },
  {
   "cell_type": "code",
   "execution_count": 5,
   "metadata": {},
   "outputs": [
    {
     "data": {
      "text/html": [
       "<div>\n",
       "<style scoped>\n",
       "    .dataframe tbody tr th:only-of-type {\n",
       "        vertical-align: middle;\n",
       "    }\n",
       "\n",
       "    .dataframe tbody tr th {\n",
       "        vertical-align: top;\n",
       "    }\n",
       "\n",
       "    .dataframe thead th {\n",
       "        text-align: right;\n",
       "    }\n",
       "</style>\n",
       "<table border=\"1\" class=\"dataframe\">\n",
       "  <thead>\n",
       "    <tr style=\"text-align: right;\">\n",
       "      <th></th>\n",
       "      <th>Age</th>\n",
       "      <th>Years_of_operation</th>\n",
       "      <th>Pos_axillary_nodes</th>\n",
       "      <th>Status</th>\n",
       "    </tr>\n",
       "  </thead>\n",
       "  <tbody>\n",
       "    <tr>\n",
       "      <th>0</th>\n",
       "      <td>30</td>\n",
       "      <td>64</td>\n",
       "      <td>1</td>\n",
       "      <td>1</td>\n",
       "    </tr>\n",
       "    <tr>\n",
       "      <th>1</th>\n",
       "      <td>30</td>\n",
       "      <td>62</td>\n",
       "      <td>3</td>\n",
       "      <td>1</td>\n",
       "    </tr>\n",
       "    <tr>\n",
       "      <th>2</th>\n",
       "      <td>30</td>\n",
       "      <td>65</td>\n",
       "      <td>0</td>\n",
       "      <td>1</td>\n",
       "    </tr>\n",
       "    <tr>\n",
       "      <th>3</th>\n",
       "      <td>31</td>\n",
       "      <td>59</td>\n",
       "      <td>2</td>\n",
       "      <td>1</td>\n",
       "    </tr>\n",
       "    <tr>\n",
       "      <th>4</th>\n",
       "      <td>31</td>\n",
       "      <td>65</td>\n",
       "      <td>4</td>\n",
       "      <td>1</td>\n",
       "    </tr>\n",
       "  </tbody>\n",
       "</table>\n",
       "</div>"
      ],
      "text/plain": [
       "   Age  Years_of_operation  Pos_axillary_nodes  Status\n",
       "0   30                  64                   1       1\n",
       "1   30                  62                   3       1\n",
       "2   30                  65                   0       1\n",
       "3   31                  59                   2       1\n",
       "4   31                  65                   4       1"
      ]
     },
     "execution_count": 5,
     "metadata": {},
     "output_type": "execute_result"
    }
   ],
   "source": [
    "BreastCancer_data.head()     # First 5 rows of dataFrame"
   ]
  },
  {
   "cell_type": "code",
   "execution_count": 6,
   "metadata": {},
   "outputs": [
    {
     "data": {
      "text/html": [
       "<div>\n",
       "<style scoped>\n",
       "    .dataframe tbody tr th:only-of-type {\n",
       "        vertical-align: middle;\n",
       "    }\n",
       "\n",
       "    .dataframe tbody tr th {\n",
       "        vertical-align: top;\n",
       "    }\n",
       "\n",
       "    .dataframe thead th {\n",
       "        text-align: right;\n",
       "    }\n",
       "</style>\n",
       "<table border=\"1\" class=\"dataframe\">\n",
       "  <thead>\n",
       "    <tr style=\"text-align: right;\">\n",
       "      <th></th>\n",
       "      <th>Age</th>\n",
       "      <th>Years_of_operation</th>\n",
       "      <th>Pos_axillary_nodes</th>\n",
       "      <th>Status</th>\n",
       "    </tr>\n",
       "  </thead>\n",
       "  <tbody>\n",
       "    <tr>\n",
       "      <th>301</th>\n",
       "      <td>75</td>\n",
       "      <td>62</td>\n",
       "      <td>1</td>\n",
       "      <td>1</td>\n",
       "    </tr>\n",
       "    <tr>\n",
       "      <th>302</th>\n",
       "      <td>76</td>\n",
       "      <td>67</td>\n",
       "      <td>0</td>\n",
       "      <td>1</td>\n",
       "    </tr>\n",
       "    <tr>\n",
       "      <th>303</th>\n",
       "      <td>77</td>\n",
       "      <td>65</td>\n",
       "      <td>3</td>\n",
       "      <td>1</td>\n",
       "    </tr>\n",
       "    <tr>\n",
       "      <th>304</th>\n",
       "      <td>78</td>\n",
       "      <td>65</td>\n",
       "      <td>1</td>\n",
       "      <td>2</td>\n",
       "    </tr>\n",
       "    <tr>\n",
       "      <th>305</th>\n",
       "      <td>83</td>\n",
       "      <td>58</td>\n",
       "      <td>2</td>\n",
       "      <td>2</td>\n",
       "    </tr>\n",
       "  </tbody>\n",
       "</table>\n",
       "</div>"
      ],
      "text/plain": [
       "     Age  Years_of_operation  Pos_axillary_nodes  Status\n",
       "301   75                  62                   1       1\n",
       "302   76                  67                   0       1\n",
       "303   77                  65                   3       1\n",
       "304   78                  65                   1       2\n",
       "305   83                  58                   2       2"
      ]
     },
     "execution_count": 6,
     "metadata": {},
     "output_type": "execute_result"
    }
   ],
   "source": [
    "BreastCancer_data.tail()     # Last 5 rows of dataFrame"
   ]
  },
  {
   "cell_type": "code",
   "execution_count": 7,
   "metadata": {},
   "outputs": [
    {
     "data": {
      "text/html": [
       "<div>\n",
       "<style scoped>\n",
       "    .dataframe tbody tr th:only-of-type {\n",
       "        vertical-align: middle;\n",
       "    }\n",
       "\n",
       "    .dataframe tbody tr th {\n",
       "        vertical-align: top;\n",
       "    }\n",
       "\n",
       "    .dataframe thead th {\n",
       "        text-align: right;\n",
       "    }\n",
       "</style>\n",
       "<table border=\"1\" class=\"dataframe\">\n",
       "  <thead>\n",
       "    <tr style=\"text-align: right;\">\n",
       "      <th></th>\n",
       "      <th>Age</th>\n",
       "      <th>Years_of_operation</th>\n",
       "      <th>Pos_axillary_nodes</th>\n",
       "      <th>Status</th>\n",
       "    </tr>\n",
       "  </thead>\n",
       "  <tbody>\n",
       "    <tr>\n",
       "      <th>count</th>\n",
       "      <td>306.000000</td>\n",
       "      <td>306.000000</td>\n",
       "      <td>306.000000</td>\n",
       "      <td>306.000000</td>\n",
       "    </tr>\n",
       "    <tr>\n",
       "      <th>mean</th>\n",
       "      <td>52.457516</td>\n",
       "      <td>62.852941</td>\n",
       "      <td>4.026144</td>\n",
       "      <td>1.264706</td>\n",
       "    </tr>\n",
       "    <tr>\n",
       "      <th>std</th>\n",
       "      <td>10.803452</td>\n",
       "      <td>3.249405</td>\n",
       "      <td>7.189654</td>\n",
       "      <td>0.441899</td>\n",
       "    </tr>\n",
       "    <tr>\n",
       "      <th>min</th>\n",
       "      <td>30.000000</td>\n",
       "      <td>58.000000</td>\n",
       "      <td>0.000000</td>\n",
       "      <td>1.000000</td>\n",
       "    </tr>\n",
       "    <tr>\n",
       "      <th>25%</th>\n",
       "      <td>44.000000</td>\n",
       "      <td>60.000000</td>\n",
       "      <td>0.000000</td>\n",
       "      <td>1.000000</td>\n",
       "    </tr>\n",
       "    <tr>\n",
       "      <th>50%</th>\n",
       "      <td>52.000000</td>\n",
       "      <td>63.000000</td>\n",
       "      <td>1.000000</td>\n",
       "      <td>1.000000</td>\n",
       "    </tr>\n",
       "    <tr>\n",
       "      <th>75%</th>\n",
       "      <td>60.750000</td>\n",
       "      <td>65.750000</td>\n",
       "      <td>4.000000</td>\n",
       "      <td>2.000000</td>\n",
       "    </tr>\n",
       "    <tr>\n",
       "      <th>max</th>\n",
       "      <td>83.000000</td>\n",
       "      <td>69.000000</td>\n",
       "      <td>52.000000</td>\n",
       "      <td>2.000000</td>\n",
       "    </tr>\n",
       "  </tbody>\n",
       "</table>\n",
       "</div>"
      ],
      "text/plain": [
       "              Age  Years_of_operation  Pos_axillary_nodes      Status\n",
       "count  306.000000          306.000000          306.000000  306.000000\n",
       "mean    52.457516           62.852941            4.026144    1.264706\n",
       "std     10.803452            3.249405            7.189654    0.441899\n",
       "min     30.000000           58.000000            0.000000    1.000000\n",
       "25%     44.000000           60.000000            0.000000    1.000000\n",
       "50%     52.000000           63.000000            1.000000    1.000000\n",
       "75%     60.750000           65.750000            4.000000    2.000000\n",
       "max     83.000000           69.000000           52.000000    2.000000"
      ]
     },
     "execution_count": 7,
     "metadata": {},
     "output_type": "execute_result"
    }
   ],
   "source": [
    "BreastCancer_data.describe() "
   ]
  },
  {
   "cell_type": "code",
   "execution_count": 8,
   "metadata": {},
   "outputs": [
    {
     "name": "stdout",
     "output_type": "stream",
     "text": [
      "<class 'pandas.core.frame.DataFrame'>\n",
      "RangeIndex: 306 entries, 0 to 305\n",
      "Data columns (total 4 columns):\n",
      "Age                   306 non-null int64\n",
      "Years_of_operation    306 non-null int64\n",
      "Pos_axillary_nodes    306 non-null int64\n",
      "Status                306 non-null int64\n",
      "dtypes: int64(4)\n",
      "memory usage: 9.6 KB\n"
     ]
    }
   ],
   "source": [
    "BreastCancer_data.info()"
   ]
  },
  {
   "cell_type": "code",
   "execution_count": 9,
   "metadata": {},
   "outputs": [
    {
     "data": {
      "text/plain": [
       "Age                   0\n",
       "Years_of_operation    0\n",
       "Pos_axillary_nodes    0\n",
       "Status                0\n",
       "dtype: int64"
      ]
     },
     "execution_count": 9,
     "metadata": {},
     "output_type": "execute_result"
    }
   ],
   "source": [
    "BreastCancer_data.isnull().sum()"
   ]
  },
  {
   "cell_type": "markdown",
   "metadata": {},
   "source": [
    "There is no null value in the dataset"
   ]
  },
  {
   "cell_type": "markdown",
   "metadata": {},
   "source": [
    "<a id=section302></a>"
   ]
  },
  {
   "cell_type": "markdown",
   "metadata": {},
   "source": [
    "### 3.2 Pre Profiling"
   ]
  },
  {
   "cell_type": "code",
   "execution_count": 10,
   "metadata": {},
   "outputs": [],
   "source": [
    "pre_profile = pandas_profiling.ProfileReport(BreastCancer_data)\n",
    "pre_profile.to_file(output_file=\"BreastCancer_before_preprocessing.html\")"
   ]
  },
  {
   "cell_type": "markdown",
   "metadata": {},
   "source": [
    "**Observations from preprocessing file :**\n",
    "\n",
    "1. There is **NO missing vlue** in the data set.  \n",
    "2. There are **17** duplicate rows in the data set. \n",
    "3. Pos_axillary_nodes column has **136 (44.4%)** zeros. \n",
    "4. Number of numerical variables 3 -> Age, Pos_axillary_nodes, Years_of_operation\n",
    "5. Number of categorical variable 1 -> Status."
   ]
  },
  {
   "cell_type": "markdown",
   "metadata": {},
   "source": [
    "<a id=section303></a>"
   ]
  },
  {
   "cell_type": "markdown",
   "metadata": {},
   "source": [
    "### 3.3 Processing"
   ]
  },
  {
   "cell_type": "markdown",
   "metadata": {},
   "source": [
    "- Handling duplicate rows in the data set."
   ]
  },
  {
   "cell_type": "code",
   "execution_count": 11,
   "metadata": {},
   "outputs": [
    {
     "data": {
      "text/plain": [
       "17"
      ]
     },
     "execution_count": 11,
     "metadata": {},
     "output_type": "execute_result"
    }
   ],
   "source": [
    "BreastCancer_data.duplicated().sum()   # Cross verifying total number of duplicate row in the dataset\n",
    "                                       # duplicated() helps to see if there is any row identical to the previous row\n",
    "                                       # sum() is adding all the Trues(ones) to give us total count of duplicate rows"
   ]
  },
  {
   "cell_type": "code",
   "execution_count": 12,
   "metadata": {},
   "outputs": [
    {
     "data": {
      "text/html": [
       "<div>\n",
       "<style scoped>\n",
       "    .dataframe tbody tr th:only-of-type {\n",
       "        vertical-align: middle;\n",
       "    }\n",
       "\n",
       "    .dataframe tbody tr th {\n",
       "        vertical-align: top;\n",
       "    }\n",
       "\n",
       "    .dataframe thead th {\n",
       "        text-align: right;\n",
       "    }\n",
       "</style>\n",
       "<table border=\"1\" class=\"dataframe\">\n",
       "  <thead>\n",
       "    <tr style=\"text-align: right;\">\n",
       "      <th></th>\n",
       "      <th>Age</th>\n",
       "      <th>Years_of_operation</th>\n",
       "      <th>Pos_axillary_nodes</th>\n",
       "      <th>Status</th>\n",
       "    </tr>\n",
       "  </thead>\n",
       "  <tbody>\n",
       "    <tr>\n",
       "      <th>23</th>\n",
       "      <td>37</td>\n",
       "      <td>63</td>\n",
       "      <td>0</td>\n",
       "      <td>1</td>\n",
       "    </tr>\n",
       "    <tr>\n",
       "      <th>27</th>\n",
       "      <td>38</td>\n",
       "      <td>60</td>\n",
       "      <td>0</td>\n",
       "      <td>1</td>\n",
       "    </tr>\n",
       "    <tr>\n",
       "      <th>52</th>\n",
       "      <td>41</td>\n",
       "      <td>65</td>\n",
       "      <td>0</td>\n",
       "      <td>1</td>\n",
       "    </tr>\n",
       "    <tr>\n",
       "      <th>65</th>\n",
       "      <td>43</td>\n",
       "      <td>64</td>\n",
       "      <td>0</td>\n",
       "      <td>2</td>\n",
       "    </tr>\n",
       "    <tr>\n",
       "      <th>78</th>\n",
       "      <td>44</td>\n",
       "      <td>61</td>\n",
       "      <td>0</td>\n",
       "      <td>1</td>\n",
       "    </tr>\n",
       "    <tr>\n",
       "      <th>108</th>\n",
       "      <td>48</td>\n",
       "      <td>58</td>\n",
       "      <td>11</td>\n",
       "      <td>2</td>\n",
       "    </tr>\n",
       "    <tr>\n",
       "      <th>132</th>\n",
       "      <td>50</td>\n",
       "      <td>61</td>\n",
       "      <td>0</td>\n",
       "      <td>1</td>\n",
       "    </tr>\n",
       "    <tr>\n",
       "      <th>179</th>\n",
       "      <td>54</td>\n",
       "      <td>62</td>\n",
       "      <td>0</td>\n",
       "      <td>1</td>\n",
       "    </tr>\n",
       "    <tr>\n",
       "      <th>184</th>\n",
       "      <td>55</td>\n",
       "      <td>58</td>\n",
       "      <td>1</td>\n",
       "      <td>1</td>\n",
       "    </tr>\n",
       "    <tr>\n",
       "      <th>196</th>\n",
       "      <td>56</td>\n",
       "      <td>60</td>\n",
       "      <td>0</td>\n",
       "      <td>1</td>\n",
       "    </tr>\n",
       "    <tr>\n",
       "      <th>206</th>\n",
       "      <td>57</td>\n",
       "      <td>64</td>\n",
       "      <td>0</td>\n",
       "      <td>1</td>\n",
       "    </tr>\n",
       "    <tr>\n",
       "      <th>233</th>\n",
       "      <td>61</td>\n",
       "      <td>59</td>\n",
       "      <td>0</td>\n",
       "      <td>1</td>\n",
       "    </tr>\n",
       "    <tr>\n",
       "      <th>237</th>\n",
       "      <td>61</td>\n",
       "      <td>59</td>\n",
       "      <td>0</td>\n",
       "      <td>1</td>\n",
       "    </tr>\n",
       "    <tr>\n",
       "      <th>243</th>\n",
       "      <td>62</td>\n",
       "      <td>66</td>\n",
       "      <td>0</td>\n",
       "      <td>1</td>\n",
       "    </tr>\n",
       "    <tr>\n",
       "      <th>249</th>\n",
       "      <td>63</td>\n",
       "      <td>63</td>\n",
       "      <td>0</td>\n",
       "      <td>1</td>\n",
       "    </tr>\n",
       "    <tr>\n",
       "      <th>266</th>\n",
       "      <td>65</td>\n",
       "      <td>64</td>\n",
       "      <td>0</td>\n",
       "      <td>1</td>\n",
       "    </tr>\n",
       "    <tr>\n",
       "      <th>276</th>\n",
       "      <td>67</td>\n",
       "      <td>66</td>\n",
       "      <td>0</td>\n",
       "      <td>1</td>\n",
       "    </tr>\n",
       "  </tbody>\n",
       "</table>\n",
       "</div>"
      ],
      "text/plain": [
       "     Age  Years_of_operation  Pos_axillary_nodes  Status\n",
       "23    37                  63                   0       1\n",
       "27    38                  60                   0       1\n",
       "52    41                  65                   0       1\n",
       "65    43                  64                   0       2\n",
       "78    44                  61                   0       1\n",
       "108   48                  58                  11       2\n",
       "132   50                  61                   0       1\n",
       "179   54                  62                   0       1\n",
       "184   55                  58                   1       1\n",
       "196   56                  60                   0       1\n",
       "206   57                  64                   0       1\n",
       "233   61                  59                   0       1\n",
       "237   61                  59                   0       1\n",
       "243   62                  66                   0       1\n",
       "249   63                  63                   0       1\n",
       "266   65                  64                   0       1\n",
       "276   67                  66                   0       1"
      ]
     },
     "execution_count": 12,
     "metadata": {},
     "output_type": "execute_result"
    }
   ],
   "source": [
    "#BreastCancer_data.loc[BreastCancer_data.duplicated(keep = False),:] # keep = False, This will help to see what are all the identical rows.\n",
    "#BreastCancer_data.loc[BreastCancer_data.duplicated(keep = 'last'),:] #keep = 'last', This will keep the last occurance as false and rest all as True.\n",
    "BreastCancer_data.loc[BreastCancer_data.duplicated(keep = 'first'),:] #keep = 'first',(default) This will keep the first occurance as false and rest all as True."
   ]
  },
  {
   "cell_type": "code",
   "execution_count": 4,
   "metadata": {},
   "outputs": [],
   "source": [
    "BreastCancer_data.drop_duplicates(keep='first',inplace = True) # drop_duplicates(), this helps to drop the duplicate rows."
   ]
  },
  {
   "cell_type": "code",
   "execution_count": 5,
   "metadata": {},
   "outputs": [
    {
     "data": {
      "text/plain": [
       "(289, 4)"
      ]
     },
     "execution_count": 5,
     "metadata": {},
     "output_type": "execute_result"
    }
   ],
   "source": [
    "BreastCancer_data.shape  # Here we can see row size is reduced now."
   ]
  },
  {
   "cell_type": "markdown",
   "metadata": {},
   "source": [
    "Handling zeros in Pos_axillary_nodes\n",
    "Applying binning function for the Pos_axillary_nodes\n",
    " 1. Pos_axillary_nodes - 0 means non-invinsive cancer (stage 0 or 1)\n",
    " 2. Pos_axillary_nodes - 1 to 3 cancer stage 2\n",
    " 3. Pos_axillary_nodes - 4 to 9 cancer stage 3\n",
    " 4. Pos_axillary_nodes - >=10   cancer stage 4 "
   ]
  },
  {
   "cell_type": "code",
   "execution_count": 13,
   "metadata": {},
   "outputs": [
    {
     "data": {
      "text/html": [
       "<div>\n",
       "<style scoped>\n",
       "    .dataframe tbody tr th:only-of-type {\n",
       "        vertical-align: middle;\n",
       "    }\n",
       "\n",
       "    .dataframe tbody tr th {\n",
       "        vertical-align: top;\n",
       "    }\n",
       "\n",
       "    .dataframe thead th {\n",
       "        text-align: right;\n",
       "    }\n",
       "</style>\n",
       "<table border=\"1\" class=\"dataframe\">\n",
       "  <thead>\n",
       "    <tr style=\"text-align: right;\">\n",
       "      <th></th>\n",
       "      <th>Age</th>\n",
       "      <th>Years_of_operation</th>\n",
       "      <th>Pos_axillary_nodes</th>\n",
       "      <th>Status</th>\n",
       "      <th>Age_bin</th>\n",
       "      <th>Stage</th>\n",
       "    </tr>\n",
       "  </thead>\n",
       "  <tbody>\n",
       "    <tr>\n",
       "      <th>0</th>\n",
       "      <td>30</td>\n",
       "      <td>64</td>\n",
       "      <td>1</td>\n",
       "      <td>1</td>\n",
       "      <td>3.0</td>\n",
       "      <td>Stage 2</td>\n",
       "    </tr>\n",
       "    <tr>\n",
       "      <th>1</th>\n",
       "      <td>30</td>\n",
       "      <td>62</td>\n",
       "      <td>3</td>\n",
       "      <td>1</td>\n",
       "      <td>3.0</td>\n",
       "      <td>Stage 2</td>\n",
       "    </tr>\n",
       "    <tr>\n",
       "      <th>2</th>\n",
       "      <td>30</td>\n",
       "      <td>65</td>\n",
       "      <td>0</td>\n",
       "      <td>1</td>\n",
       "      <td>3.0</td>\n",
       "      <td>Non-Invinsive</td>\n",
       "    </tr>\n",
       "    <tr>\n",
       "      <th>3</th>\n",
       "      <td>31</td>\n",
       "      <td>59</td>\n",
       "      <td>2</td>\n",
       "      <td>1</td>\n",
       "      <td>4.0</td>\n",
       "      <td>Stage 2</td>\n",
       "    </tr>\n",
       "    <tr>\n",
       "      <th>4</th>\n",
       "      <td>31</td>\n",
       "      <td>65</td>\n",
       "      <td>4</td>\n",
       "      <td>1</td>\n",
       "      <td>4.0</td>\n",
       "      <td>Stage 3</td>\n",
       "    </tr>\n",
       "    <tr>\n",
       "      <th>5</th>\n",
       "      <td>33</td>\n",
       "      <td>58</td>\n",
       "      <td>10</td>\n",
       "      <td>1</td>\n",
       "      <td>4.0</td>\n",
       "      <td>Stage 4</td>\n",
       "    </tr>\n",
       "    <tr>\n",
       "      <th>6</th>\n",
       "      <td>33</td>\n",
       "      <td>60</td>\n",
       "      <td>0</td>\n",
       "      <td>1</td>\n",
       "      <td>4.0</td>\n",
       "      <td>Non-Invinsive</td>\n",
       "    </tr>\n",
       "    <tr>\n",
       "      <th>7</th>\n",
       "      <td>34</td>\n",
       "      <td>59</td>\n",
       "      <td>0</td>\n",
       "      <td>2</td>\n",
       "      <td>4.0</td>\n",
       "      <td>Non-Invinsive</td>\n",
       "    </tr>\n",
       "    <tr>\n",
       "      <th>8</th>\n",
       "      <td>34</td>\n",
       "      <td>66</td>\n",
       "      <td>9</td>\n",
       "      <td>2</td>\n",
       "      <td>4.0</td>\n",
       "      <td>Stage 3</td>\n",
       "    </tr>\n",
       "    <tr>\n",
       "      <th>9</th>\n",
       "      <td>34</td>\n",
       "      <td>58</td>\n",
       "      <td>30</td>\n",
       "      <td>1</td>\n",
       "      <td>4.0</td>\n",
       "      <td>Stage 4</td>\n",
       "    </tr>\n",
       "  </tbody>\n",
       "</table>\n",
       "</div>"
      ],
      "text/plain": [
       "   Age  Years_of_operation  Pos_axillary_nodes  Status  Age_bin          Stage\n",
       "0   30                  64                   1       1      3.0        Stage 2\n",
       "1   30                  62                   3       1      3.0        Stage 2\n",
       "2   30                  65                   0       1      3.0  Non-Invinsive\n",
       "3   31                  59                   2       1      4.0        Stage 2\n",
       "4   31                  65                   4       1      4.0        Stage 3\n",
       "5   33                  58                  10       1      4.0        Stage 4\n",
       "6   33                  60                   0       1      4.0  Non-Invinsive\n",
       "7   34                  59                   0       2      4.0  Non-Invinsive\n",
       "8   34                  66                   9       2      4.0        Stage 3\n",
       "9   34                  58                  30       1      4.0        Stage 4"
      ]
     },
     "execution_count": 13,
     "metadata": {},
     "output_type": "execute_result"
    }
   ],
   "source": [
    "BreastCancer_data.loc[BreastCancer_data['Pos_axillary_nodes'] ==0, 'Stage']= 'Non-Invinsive'\n",
    "BreastCancer_data.loc[(BreastCancer_data['Pos_axillary_nodes'] >=1) & (BreastCancer_data['Pos_axillary_nodes']<=3), 'Stage']= 'Stage 2'\n",
    "BreastCancer_data.loc[(BreastCancer_data['Pos_axillary_nodes'] >=4) & (BreastCancer_data['Pos_axillary_nodes']<=9), 'Stage']= 'Stage 3'\n",
    "BreastCancer_data.loc[BreastCancer_data['Pos_axillary_nodes'] >=10, 'Stage']= 'Stage 4'\n",
    "BreastCancer_data.head(10)"
   ]
  },
  {
   "cell_type": "markdown",
   "metadata": {},
   "source": [
    "<a id=section304></a>"
   ]
  },
  {
   "cell_type": "markdown",
   "metadata": {},
   "source": [
    "### 3.4 Post Profiling"
   ]
  },
  {
   "cell_type": "code",
   "execution_count": 16,
   "metadata": {},
   "outputs": [],
   "source": [
    "import pandas_profiling\n",
    "post_profile = pandas_profiling.ProfileReport(BreastCancer_data)\n",
    "post_profile.to_file(output_file=\"BreastCancer_after_preprocessing.html\")"
   ]
  },
  {
   "cell_type": "markdown",
   "metadata": {},
   "source": [
    "Now, here data is processed. Few changes are as below:\n",
    "1. Duplicate rows were droped, now there are 289 rows. \n",
    "2. New column was added here depending on the count of the Pos_axillary_nodes. Now there are 6 columns."
   ]
  },
  {
   "cell_type": "markdown",
   "metadata": {},
   "source": [
    "<a id=section4></a>"
   ]
  },
  {
   "cell_type": "markdown",
   "metadata": {},
   "source": [
    "## 4. Questions"
   ]
  },
  {
   "cell_type": "markdown",
   "metadata": {},
   "source": [
    "<a id=section401></a>"
   ]
  },
  {
   "cell_type": "markdown",
   "metadata": {},
   "source": [
    "#### 4.1. How many women were survived less than 5 years and how many more than 5years? "
   ]
  },
  {
   "cell_type": "markdown",
   "metadata": {},
   "source": [
    "- Using countplot "
   ]
  },
  {
   "cell_type": "code",
   "execution_count": 9,
   "metadata": {},
   "outputs": [
    {
     "data": {
      "text/plain": [
       "Text(0.5, 1.0, 'Count plot for survived.')"
      ]
     },
     "execution_count": 9,
     "metadata": {},
     "output_type": "execute_result"
    },
    {
     "data": {
      "image/png": "[encoded data removed]",
      "text/plain": [
       "<Figure size 432x288 with 1 Axes>"
      ]
     },
     "metadata": {
      "needs_background": "light"
     },
     "output_type": "display_data"
    }
   ],
   "source": [
    "sns.countplot(x='Status', data=BreastCancer_data).set_title('Count plot for survived.')"
   ]
  },
  {
   "cell_type": "markdown",
   "metadata": {},
   "source": [
    "- Using groupby()"
   ]
  },
  {
   "cell_type": "code",
   "execution_count": 11,
   "metadata": {},
   "outputs": [
    {
     "data": {
      "text/plain": [
       "Status\n",
       "1    210\n",
       "2     79\n",
       "Name: Status, dtype: int64"
      ]
     },
     "execution_count": 11,
     "metadata": {},
     "output_type": "execute_result"
    }
   ],
   "source": [
    "BreastCancer_data.groupby(['Status'])['Status'].count()"
   ]
  },
  {
   "cell_type": "markdown",
   "metadata": {},
   "source": [
    "<font color = 'blue'> We can see that **210** women were survived **more than 5 years** and **79** women were survived **less than 5years**.</font>"
   ]
  },
  {
   "cell_type": "markdown",
   "metadata": {},
   "source": [
    "<a id=section402></a>"
   ]
  },
  {
   "cell_type": "markdown",
   "metadata": {},
   "source": [
    "#### 4.2. Was the survival impacted with Age and cancer stage?"
   ]
  },
  {
   "cell_type": "markdown",
   "metadata": {},
   "source": [
    "- Segment Age in bins with size 10"
   ]
  },
  {
   "cell_type": "code",
   "execution_count": 7,
   "metadata": {},
   "outputs": [
    {
     "name": "stdout",
     "output_type": "stream",
     "text": [
      "9\n",
      "8\n",
      "7\n",
      "6\n",
      "5\n",
      "4\n",
      "3\n",
      "2\n",
      "1\n"
     ]
    }
   ],
   "source": [
    "for age in range(9,0,-1):\n",
    "    BreastCancer_data.loc[BreastCancer_data['Age']<=age*10, 'Age_bin'] = age \n",
    "    print(age)"
   ]
  },
  {
   "cell_type": "code",
   "execution_count": 22,
   "metadata": {},
   "outputs": [
    {
     "data": {
      "text/html": [
       "<div>\n",
       "<style scoped>\n",
       "    .dataframe tbody tr th:only-of-type {\n",
       "        vertical-align: middle;\n",
       "    }\n",
       "\n",
       "    .dataframe tbody tr th {\n",
       "        vertical-align: top;\n",
       "    }\n",
       "\n",
       "    .dataframe thead th {\n",
       "        text-align: right;\n",
       "    }\n",
       "</style>\n",
       "<table border=\"1\" class=\"dataframe\">\n",
       "  <thead>\n",
       "    <tr style=\"text-align: right;\">\n",
       "      <th></th>\n",
       "      <th>Age</th>\n",
       "      <th>Years_of_operation</th>\n",
       "      <th>Pos_axillary_nodes</th>\n",
       "      <th>Status</th>\n",
       "      <th>Stage</th>\n",
       "      <th>Age_bin</th>\n",
       "    </tr>\n",
       "  </thead>\n",
       "  <tbody>\n",
       "    <tr>\n",
       "      <th>0</th>\n",
       "      <td>30</td>\n",
       "      <td>64</td>\n",
       "      <td>1</td>\n",
       "      <td>1</td>\n",
       "      <td>Stage 2</td>\n",
       "      <td>3.0</td>\n",
       "    </tr>\n",
       "    <tr>\n",
       "      <th>1</th>\n",
       "      <td>30</td>\n",
       "      <td>62</td>\n",
       "      <td>3</td>\n",
       "      <td>1</td>\n",
       "      <td>Stage 2</td>\n",
       "      <td>3.0</td>\n",
       "    </tr>\n",
       "    <tr>\n",
       "      <th>2</th>\n",
       "      <td>30</td>\n",
       "      <td>65</td>\n",
       "      <td>0</td>\n",
       "      <td>1</td>\n",
       "      <td>Non-Invinsive</td>\n",
       "      <td>3.0</td>\n",
       "    </tr>\n",
       "    <tr>\n",
       "      <th>3</th>\n",
       "      <td>31</td>\n",
       "      <td>59</td>\n",
       "      <td>2</td>\n",
       "      <td>1</td>\n",
       "      <td>Stage 2</td>\n",
       "      <td>4.0</td>\n",
       "    </tr>\n",
       "    <tr>\n",
       "      <th>4</th>\n",
       "      <td>31</td>\n",
       "      <td>65</td>\n",
       "      <td>4</td>\n",
       "      <td>1</td>\n",
       "      <td>Stage 3</td>\n",
       "      <td>4.0</td>\n",
       "    </tr>\n",
       "  </tbody>\n",
       "</table>\n",
       "</div>"
      ],
      "text/plain": [
       "   Age  Years_of_operation  Pos_axillary_nodes  Status          Stage  Age_bin\n",
       "0   30                  64                   1       1        Stage 2      3.0\n",
       "1   30                  62                   3       1        Stage 2      3.0\n",
       "2   30                  65                   0       1  Non-Invinsive      3.0\n",
       "3   31                  59                   2       1        Stage 2      4.0\n",
       "4   31                  65                   4       1        Stage 3      4.0"
      ]
     },
     "execution_count": 22,
     "metadata": {},
     "output_type": "execute_result"
    }
   ],
   "source": [
    "BreastCancer_data.head()"
   ]
  },
  {
   "cell_type": "code",
   "execution_count": 18,
   "metadata": {},
   "outputs": [
    {
     "data": {
      "text/plain": [
       "Status  Age_bin  Stage        \n",
       "1       3.0      Non-Invinsive     1\n",
       "                 Stage 2           2\n",
       "        4.0      Non-Invinsive    14\n",
       "                 Stage 2           9\n",
       "                 Stage 3           5\n",
       "                 Stage 4           6\n",
       "        5.0      Non-Invinsive    26\n",
       "                 Stage 2          20\n",
       "                 Stage 3          10\n",
       "                 Stage 4           5\n",
       "        6.0      Non-Invinsive    27\n",
       "                 Stage 2          22\n",
       "                 Stage 3           9\n",
       "                 Stage 4           5\n",
       "        7.0      Non-Invinsive    29\n",
       "                 Stage 2           3\n",
       "                 Stage 3           4\n",
       "                 Stage 4           3\n",
       "        8.0      Non-Invinsive     6\n",
       "                 Stage 2           4\n",
       "2       4.0      Non-Invinsive     2\n",
       "                 Stage 3           1\n",
       "                 Stage 4           1\n",
       "        5.0      Non-Invinsive     9\n",
       "                 Stage 2           5\n",
       "                 Stage 3           5\n",
       "                 Stage 4           8\n",
       "        6.0      Non-Invinsive     1\n",
       "                 Stage 2           8\n",
       "                 Stage 3           8\n",
       "                 Stage 4           9\n",
       "        7.0      Non-Invinsive     5\n",
       "                 Stage 2           4\n",
       "                 Stage 3           4\n",
       "                 Stage 4           5\n",
       "        8.0      Non-Invinsive     1\n",
       "                 Stage 2           2\n",
       "        9.0      Stage 2           1\n",
       "Name: Status, dtype: int64"
      ]
     },
     "execution_count": 18,
     "metadata": {},
     "output_type": "execute_result"
    }
   ],
   "source": [
    "# Count of status 1, 2, for different Age_Bin\n",
    "BreastCancer_data.groupby(['Status','Age_bin','Stage'])['Status'].count()"
   ]
  },
  {
   "cell_type": "code",
   "execution_count": 8,
   "metadata": {},
   "outputs": [
    {
     "name": "stdout",
     "output_type": "stream",
     "text": [
      "Total Count of cancer patient for Age_bin 5:  88\n",
      "Total Count of cancer patient for Age_bin 6:  89\n",
      "Total Count of cancer patient for Age_bin 7:  57\n"
     ]
    }
   ],
   "source": [
    "print(\"Total Count of cancer patient for Age_bin 5: \", BreastCancer_data[(BreastCancer_data.Age_bin == 5)]['Age_bin'].count())\n",
    "print(\"Total Count of cancer patient for Age_bin 6: \", BreastCancer_data[(BreastCancer_data.Age_bin == 6)]['Age_bin'].count())\n",
    "print(\"Total Count of cancer patient for Age_bin 7: \", BreastCancer_data[(BreastCancer_data.Age_bin == 7)]['Age_bin'].count())"
   ]
  },
  {
   "cell_type": "markdown",
   "metadata": {},
   "source": [
    "- Using Factor Plot"
   ]
  },
  {
   "cell_type": "code",
   "execution_count": 20,
   "metadata": {},
   "outputs": [
    {
     "data": {
      "text/plain": [
       "<seaborn.axisgrid.FacetGrid at 0x27f00364a58>"
      ]
     },
     "execution_count": 20,
     "metadata": {},
     "output_type": "execute_result"
    },
    {
     "data": {
      "image/png": "[encoded data removed]",
      "text/plain": [
       "<Figure size 401.625x360 with 1 Axes>"
      ]
     },
     "metadata": {
      "needs_background": "light"
     },
     "output_type": "display_data"
    }
   ],
   "source": [
    "sns.factorplot('Age_bin', hue = \"Status\", kind = 'count', data =BreastCancer_data )"
   ]
  },
  {
   "cell_type": "markdown",
   "metadata": {},
   "source": [
    "<font color = 'blue'> We can see from the above graph, that for **Age_bin 5** and **Age_bin 6** more women were died even after operation.</font>\n"
   ]
  },
  {
   "cell_type": "markdown",
   "metadata": {},
   "source": [
    "- Percentage of women in the particular range of age, are mostly diagnosed with cancer "
   ]
  },
  {
   "cell_type": "code",
   "execution_count": 21,
   "metadata": {},
   "outputs": [
    {
     "name": "stdout",
     "output_type": "stream",
     "text": [
      "% of women diagnosed with cancer for the range of age of 31-40 -> 13.1%\n",
      "% of women diagnosed with cancer for the range of age of 41-50 -> 30.4%\n",
      "% of women diagnosed with cancer for the range of age of 51-60 -> 30.8%\n",
      "% of women diagnosed with cancer for the range of age of 61-70 -> 19.7%\n"
     ]
    }
   ],
   "source": [
    "print(\"% of women diagnosed with cancer for the range of age of 31-40 -> {0:.1f}%\".format((BreastCancer_data[(BreastCancer_data.Age_bin == 4)]['Age_bin'].count()/289)*100)) \n",
    "print(\"% of women diagnosed with cancer for the range of age of 41-50 -> {0:.1f}%\".format((BreastCancer_data[(BreastCancer_data.Age_bin == 5)]['Age_bin'].count()/289)*100)) \n",
    "print(\"% of women diagnosed with cancer for the range of age of 51-60 -> {0:.1f}%\".format((BreastCancer_data[(BreastCancer_data.Age_bin == 6)]['Age_bin'].count()/289)*100)) \n",
    "print(\"% of women diagnosed with cancer for the range of age of 61-70 -> {0:.1f}%\".format((BreastCancer_data[(BreastCancer_data.Age_bin == 7)]['Age_bin'].count()/289)*100)) "
   ]
  },
  {
   "cell_type": "markdown",
   "metadata": {},
   "source": [
    "<font color = 'blue'> We can see here, that **30%-31%** women were diagnosed with cancer for the age range of **41-60**. </font>"
   ]
  },
  {
   "cell_type": "code",
   "execution_count": 22,
   "metadata": {},
   "outputs": [
    {
     "data": {
      "image/png": "[encoded data removed]",
      "text/plain": [
       "<Figure size 432x288 with 1 Axes>"
      ]
     },
     "metadata": {
      "needs_background": "light"
     },
     "output_type": "display_data"
    }
   ],
   "source": [
    "sns.barplot(x=\"Age_bin\" , y = \"Status\", hue = \"Stage\", data = BreastCancer_data)\n",
    "plt.show()"
   ]
  },
  {
   "cell_type": "markdown",
   "metadata": {},
   "source": [
    "<font color = 'blue'> Most impacted age of cancer is **41 - 60** and mostly impacted by **stage 4** cancer.</font><br/>\n",
    "<font color = 'blue'> **Nan-Invasive** can be happened at **any age** of women</font> "
   ]
  },
  {
   "cell_type": "markdown",
   "metadata": {},
   "source": [
    "<a id=section403></a>"
   ]
  },
  {
   "cell_type": "markdown",
   "metadata": {},
   "source": [
    "#### 4.3. Is the survival  impacted with different cancer statge?"
   ]
  },
  {
   "cell_type": "markdown",
   "metadata": {},
   "source": [
    "- Count of Status 1,2 vs cancer stages"
   ]
  },
  {
   "cell_type": "code",
   "execution_count": 23,
   "metadata": {},
   "outputs": [
    {
     "data": {
      "text/plain": [
       "Stage          Status\n",
       "Non-Invinsive  1         103\n",
       "               2          18\n",
       "Stage 2        1          60\n",
       "               2          20\n",
       "Stage 3        1          28\n",
       "               2          18\n",
       "Stage 4        2          23\n",
       "               1          19\n",
       "Name: Status, dtype: int64"
      ]
     },
     "execution_count": 23,
     "metadata": {},
     "output_type": "execute_result"
    }
   ],
   "source": [
    "BreastCancer_data.groupby(['Stage'])['Status'].value_counts()"
   ]
  },
  {
   "cell_type": "markdown",
   "metadata": {},
   "source": [
    "- using Factor plot"
   ]
  },
  {
   "cell_type": "code",
   "execution_count": 24,
   "metadata": {},
   "outputs": [
    {
     "data": {
      "text/plain": [
       "<seaborn.axisgrid.FacetGrid at 0x27f00063e10>"
      ]
     },
     "execution_count": 24,
     "metadata": {},
     "output_type": "execute_result"
    },
    {
     "data": {
      "image/png": "[encoded data removed]",
      "text/plain": [
       "<Figure size 401.625x360 with 1 Axes>"
      ]
     },
     "metadata": {
      "needs_background": "light"
     },
     "output_type": "display_data"
    }
   ],
   "source": [
    "sns.factorplot('Stage', hue = \"Status\", kind = 'count', data =BreastCancer_data )"
   ]
  },
  {
   "cell_type": "markdown",
   "metadata": {},
   "source": [
    "<font color = 'blue'>We can see that most of the women were survived more than 5years for **Nan-Invasive** type of cancer</font> "
   ]
  },
  {
   "cell_type": "code",
   "execution_count": 25,
   "metadata": {},
   "outputs": [
    {
     "name": "stdout",
     "output_type": "stream",
     "text": [
      "% of survival for more than 5years Stage 4 among all other stages-> 6.6%\n",
      "% of survival for more than 5years for Stage 4 -> 54.8%\n"
     ]
    }
   ],
   "source": [
    "print(\"% of survival for more than 5years Stage 4 among all other stages-> {0:.1f}%\".format((BreastCancer_data[(BreastCancer_data.Stage == 'Stage 4')&(BreastCancer_data.Status == 1)]['Status'].count()/289)*100))\n",
    "print(\"% of survival for more than 5years for Stage 4 -> {0:.1f}%\".format((BreastCancer_data[(BreastCancer_data.Stage == 'Stage 4')&(BreastCancer_data.Status == 2)]['Status'].count()/BreastCancer_data[(BreastCancer_data.Stage == 'Stage 4')]['Status'].count())*100))"
   ]
  },
  {
   "cell_type": "code",
   "execution_count": 28,
   "metadata": {},
   "outputs": [
    {
     "data": {
      "text/plain": [
       "Text(0.5, 1.0, 'Status (Non-Invinsive)')"
      ]
     },
     "execution_count": 28,
     "metadata": {},
     "output_type": "execute_result"
    },
    {
     "data": {
      "image/png": "[encoded data removed]",
      "text/plain": [
       "<Figure size 1440x504 with 4 Axes>"
      ]
     },
     "metadata": {},
     "output_type": "display_data"
    }
   ],
   "source": [
    "f,ax = plt.subplots(1,4,figsize=(20,7))\n",
    "BreastCancer_data['Status'][BreastCancer_data['Stage'] == 'Stage 4'].value_counts().plot.pie(explode=[0,0.2],autopct='%1.1f%%',ax=ax[0],shadow=True)\n",
    "BreastCancer_data['Status'][BreastCancer_data['Stage'] == 'Stage 3'].value_counts().plot.pie(explode=[0,0.2],autopct='%1.1f%%',ax=ax[1],shadow=True)\n",
    "BreastCancer_data['Status'][BreastCancer_data['Stage'] == 'Stage 2'].value_counts().plot.pie(explode=[0,0.2],autopct='%1.1f%%',ax=ax[2],shadow=True)\n",
    "BreastCancer_data['Status'][BreastCancer_data['Stage'] == 'Non-Invinsive'].value_counts().plot.pie(explode=[0,0.2],autopct='%1.1f%%',ax=ax[3],shadow=True)\n",
    "\n",
    "ax[0].set_title('Status (Stage 4)')\n",
    "ax[1].set_title('Status (Stage 3)')\n",
    "ax[2].set_title('Status (Stage 2)')\n",
    "ax[3].set_title('Status (Non-Invinsive)')"
   ]
  },
  {
   "cell_type": "markdown",
   "metadata": {},
   "source": [
    "<font color = 'blue'>We can see that for Stage 4 cancer chances of survival and death is approximately 50%. </font>"
   ]
  },
  {
   "cell_type": "code",
   "execution_count": 15,
   "metadata": {},
   "outputs": [
    {
     "name": "stdout",
     "output_type": "stream",
     "text": [
      "[6.5743944636678195, 9.688581314878892, 20.761245674740483, 35.6401384083045]\n"
     ]
    },
    {
     "data": {
      "image/png": "[encoded data removed]",
      "text/plain": [
       "<Figure size 432x288 with 1 Axes>"
      ]
     },
     "metadata": {},
     "output_type": "display_data"
    }
   ],
   "source": [
    "#print(BreastCancer_data['Status'][BreastCancer_data['Stage'] == 'Stage 4'].count()/289)\n",
    "slices =[((BreastCancer_data[(BreastCancer_data.Stage == 'Stage 4')&(BreastCancer_data.Status == 1)]['Status'].count()/289)*100),\n",
    "        ((BreastCancer_data[(BreastCancer_data.Stage == 'Stage 3')&(BreastCancer_data.Status == 1)]['Status'].count()/289)*100),\n",
    "        ((BreastCancer_data[(BreastCancer_data.Stage == 'Stage 2')&(BreastCancer_data.Status == 1)]['Status'].count()/289)*100),\n",
    "        ((BreastCancer_data[(BreastCancer_data.Stage == 'Non-Invinsive')&(BreastCancer_data.Status == 1)]['Status'].count()/289)*100)] \n",
    "print(slices)\n",
    "labels = ['Stage 4', 'Stage 3', 'Stage 2', 'Non-Invinsive']\n",
    "#plt.pie(slices,labels=labels, autopct='%1.1f%%',shadow=True)\n",
    "\n",
    "fig1, ax1 = plt.subplots()\n",
    "ax1.pie(slices, labels=labels,autopct='%1.1f%%', shadow=True, startangle=90)\n",
    "# Equal aspect ratio ensures that pie is drawn as a circle\n",
    "plt.title('Percentage of different stages of cancer for Status 1')\n",
    "ax1.axis('equal')\n",
    "plt.tight_layout()\n",
    "plt.show()\n"
   ]
  },
  {
   "cell_type": "markdown",
   "metadata": {},
   "source": [
    "<font color = 'blue'>We can see that for **Stage 4** cancer the chances of survival more than 5 years is very less.</font>"
   ]
  },
  {
   "cell_type": "code",
   "execution_count": 17,
   "metadata": {},
   "outputs": [
    {
     "name": "stdout",
     "output_type": "stream",
     "text": [
      "[7.958477508650519, 6.228373702422145, 6.920415224913495, 6.228373702422145]\n"
     ]
    },
    {
     "data": {
      "image/png": "[encoded data removed]",
      "text/plain": [
       "<Figure size 432x288 with 1 Axes>"
      ]
     },
     "metadata": {},
     "output_type": "display_data"
    }
   ],
   "source": [
    "slices =[((BreastCancer_data[(BreastCancer_data.Stage == 'Stage 4')&(BreastCancer_data.Status == 2)]['Status'].count()/289)*100),\n",
    "        ((BreastCancer_data[(BreastCancer_data.Stage == 'Stage 3')&(BreastCancer_data.Status == 2)]['Status'].count()/289)*100),\n",
    "        ((BreastCancer_data[(BreastCancer_data.Stage == 'Stage 2')&(BreastCancer_data.Status == 2)]['Status'].count()/289)*100),\n",
    "        ((BreastCancer_data[(BreastCancer_data.Stage == 'Non-Invinsive')&(BreastCancer_data.Status == 2)]['Status'].count()/289)*100)] \n",
    "print(slices)\n",
    "labels = ['Stage 4', 'Stage 3', 'Stage 2', 'Non-Invinsive']\n",
    "#plt.pie(slices,labels=labels, autopct='%1.1f%%',shadow=True)\n",
    "\n",
    "fig1, ax1 = plt.subplots()\n",
    "ax1.pie(slices, labels=labels, autopct='%1.1f%%',shadow=True, startangle=90)\n",
    "# Equal aspect ratio ensures that pie is drawn as a circle\n",
    "plt.title('Percentage of different stages of cancer for Status 2')\n",
    "ax1.axis('equal')\n",
    "plt.tight_layout()\n",
    "plt.show()"
   ]
  },
  {
   "cell_type": "markdown",
   "metadata": {},
   "source": [
    "<font color = 'blue'>We can see that for **Stage 4** cancer the chances of death even after operatin is **high**.</font>"
   ]
  },
  {
   "cell_type": "markdown",
   "metadata": {},
   "source": [
    "<a id=section404></a>"
   ]
  },
  {
   "cell_type": "markdown",
   "metadata": {},
   "source": [
    "#### 4.4. Is there any imapct of number of Pos_axillary_nodes on the survival status for different ages?"
   ]
  },
  {
   "cell_type": "code",
   "execution_count": 67,
   "metadata": {},
   "outputs": [
    {
     "data": {
      "image/png": "[encoded data removed]",
      "text/plain": [
       "<Figure size 432x288 with 1 Axes>"
      ]
     },
     "metadata": {
      "needs_background": "light"
     },
     "output_type": "display_data"
    }
   ],
   "source": [
    "sns.barplot(x=\"Age_bin\" , y = \"Pos_axillary_nodes\", hue = \"Status\", data = BreastCancer_data)\n",
    "plt.show()"
   ]
  },
  {
   "cell_type": "markdown",
   "metadata": {},
   "source": [
    "<font color = 'blue'>There is very high chance, with the increase of age cancer can spread to **more lymph nodes** and leads to less survival rate</font>\n"
   ]
  },
  {
   "cell_type": "markdown",
   "metadata": {},
   "source": [
    "<a id=section405></a>"
   ]
  },
  {
   "cell_type": "markdown",
   "metadata": {},
   "source": [
    "#### 4.5. Is there any difference in Success rate as per year of operation ?"
   ]
  },
  {
   "cell_type": "code",
   "execution_count": 75,
   "metadata": {},
   "outputs": [
    {
     "data": {
      "text/html": [
       "<div>\n",
       "<style scoped>\n",
       "    .dataframe tbody tr th:only-of-type {\n",
       "        vertical-align: middle;\n",
       "    }\n",
       "\n",
       "    .dataframe tbody tr th {\n",
       "        vertical-align: top;\n",
       "    }\n",
       "\n",
       "    .dataframe thead th {\n",
       "        text-align: right;\n",
       "    }\n",
       "</style>\n",
       "<table border=\"1\" class=\"dataframe\">\n",
       "  <thead>\n",
       "    <tr style=\"text-align: right;\">\n",
       "      <th></th>\n",
       "      <th>Age</th>\n",
       "      <th>Years_of_operation</th>\n",
       "      <th>Pos_axillary_nodes</th>\n",
       "      <th>Status</th>\n",
       "      <th>Stage</th>\n",
       "      <th>Age_bin</th>\n",
       "      <th>Year_Range</th>\n",
       "    </tr>\n",
       "  </thead>\n",
       "  <tbody>\n",
       "    <tr>\n",
       "      <th>0</th>\n",
       "      <td>30</td>\n",
       "      <td>64</td>\n",
       "      <td>1</td>\n",
       "      <td>1</td>\n",
       "      <td>Stage 2</td>\n",
       "      <td>3.0</td>\n",
       "      <td>3.0</td>\n",
       "    </tr>\n",
       "    <tr>\n",
       "      <th>1</th>\n",
       "      <td>30</td>\n",
       "      <td>62</td>\n",
       "      <td>3</td>\n",
       "      <td>1</td>\n",
       "      <td>Stage 2</td>\n",
       "      <td>3.0</td>\n",
       "      <td>2.0</td>\n",
       "    </tr>\n",
       "    <tr>\n",
       "      <th>2</th>\n",
       "      <td>30</td>\n",
       "      <td>65</td>\n",
       "      <td>0</td>\n",
       "      <td>1</td>\n",
       "      <td>Non-Invinsive</td>\n",
       "      <td>3.0</td>\n",
       "      <td>3.0</td>\n",
       "    </tr>\n",
       "    <tr>\n",
       "      <th>3</th>\n",
       "      <td>31</td>\n",
       "      <td>59</td>\n",
       "      <td>2</td>\n",
       "      <td>1</td>\n",
       "      <td>Stage 2</td>\n",
       "      <td>4.0</td>\n",
       "      <td>1.0</td>\n",
       "    </tr>\n",
       "    <tr>\n",
       "      <th>4</th>\n",
       "      <td>31</td>\n",
       "      <td>65</td>\n",
       "      <td>4</td>\n",
       "      <td>1</td>\n",
       "      <td>Stage 3</td>\n",
       "      <td>4.0</td>\n",
       "      <td>3.0</td>\n",
       "    </tr>\n",
       "  </tbody>\n",
       "</table>\n",
       "</div>"
      ],
      "text/plain": [
       "   Age  Years_of_operation  Pos_axillary_nodes  Status          Stage  \\\n",
       "0   30                  64                   1       1        Stage 2   \n",
       "1   30                  62                   3       1        Stage 2   \n",
       "2   30                  65                   0       1  Non-Invinsive   \n",
       "3   31                  59                   2       1        Stage 2   \n",
       "4   31                  65                   4       1        Stage 3   \n",
       "\n",
       "   Age_bin  Year_Range  \n",
       "0      3.0         3.0  \n",
       "1      3.0         2.0  \n",
       "2      3.0         3.0  \n",
       "3      4.0         1.0  \n",
       "4      4.0         3.0  "
      ]
     },
     "execution_count": 75,
     "metadata": {},
     "output_type": "execute_result"
    }
   ],
   "source": [
    "#number of status 1 in the particular year range\n",
    "BreastCancer_data.loc[(BreastCancer_data['Years_of_operation'] >=58) & (BreastCancer_data['Years_of_operation']<=60), 'Year_Range']= 1\n",
    "BreastCancer_data.loc[(BreastCancer_data['Years_of_operation'] >=61) & (BreastCancer_data['Years_of_operation']<=63), 'Year_Range']= 2\n",
    "BreastCancer_data.loc[(BreastCancer_data['Years_of_operation'] >=64) & (BreastCancer_data['Years_of_operation']<=66), 'Year_Range']= 3\n",
    "BreastCancer_data.loc[BreastCancer_data['Years_of_operation'] >=67, 'Year_Range']= 4\n",
    "BreastCancer_data.head()\n"
   ]
  },
  {
   "cell_type": "code",
   "execution_count": 78,
   "metadata": {},
   "outputs": [
    {
     "data": {
      "text/plain": [
       "Year_Range  Status\n",
       "1.0         1         61\n",
       "            2         24\n",
       "2.0         1         56\n",
       "            2         18\n",
       "3.0         1         55\n",
       "            2         26\n",
       "4.0         1         38\n",
       "            2         11\n",
       "Name: Status, dtype: int64"
      ]
     },
     "execution_count": 78,
     "metadata": {},
     "output_type": "execute_result"
    }
   ],
   "source": [
    "BreastCancer_data.groupby(['Year_Range','Status'])['Status'].count()"
   ]
  },
  {
   "cell_type": "code",
   "execution_count": 76,
   "metadata": {},
   "outputs": [
    {
     "data": {
      "text/plain": [
       "<seaborn.axisgrid.FacetGrid at 0x27f01ae7438>"
      ]
     },
     "execution_count": 76,
     "metadata": {},
     "output_type": "execute_result"
    },
    {
     "data": {
      "image/png": "[encoded data removed]",
      "text/plain": [
       "<Figure size 401.625x360 with 1 Axes>"
      ]
     },
     "metadata": {
      "needs_background": "light"
     },
     "output_type": "display_data"
    }
   ],
   "source": [
    "sns.factorplot('Year_Range', hue = \"Status\", kind = 'count', data =BreastCancer_data )"
   ]
  },
  {
   "cell_type": "markdown",
   "metadata": {},
   "source": [
    "<font color = 'blue'>If we compare status1 and Status2 individually for each of the Year_Range, Year_Range 4 has status1 is 3.5 times more than status2.</font>"
   ]
  },
  {
   "cell_type": "markdown",
   "metadata": {},
   "source": [
    "<a id=section406></a>"
   ]
  },
  {
   "cell_type": "markdown",
   "metadata": {},
   "source": [
    "#### 4.6. Establish coorelation between all the features using heatmap. "
   ]
  },
  {
   "cell_type": "code",
   "execution_count": 79,
   "metadata": {},
   "outputs": [
    {
     "data": {
      "text/plain": [
       "Text(0.5, 1.0, 'Correlation between features')"
      ]
     },
     "execution_count": 79,
     "metadata": {},
     "output_type": "execute_result"
    },
    {
     "data": {
      "image/png": "[encoded data removed]",
      "text/plain": [
       "<Figure size 720x720 with 2 Axes>"
      ]
     },
     "metadata": {
      "needs_background": "light"
     },
     "output_type": "display_data"
    }
   ],
   "source": [
    "corr = BreastCancer_data.corr()\n",
    "plt.figure(figsize=(10,10))\n",
    "sns.heatmap(corr,vmax=.8,linewidth=.01, square = True, annot = True,cmap='YlGnBu',linecolor ='black')\n",
    "plt.title('Correlation between features')"
   ]
  },
  {
   "cell_type": "markdown",
   "metadata": {},
   "source": [
    "<font color = 'blue'>Age and Pos_axillary_nodes **negatively correlated**, also for Age and status the correlation value is very low. With age women were more impacted with this type of cancer and survival rate is also very low for Stage 4 cancer. </font>\n"
   ]
  },
  {
   "cell_type": "markdown",
   "metadata": {},
   "source": [
    "<a id=section5></a>"
   ]
  },
  {
   "cell_type": "markdown",
   "metadata": {},
   "source": [
    "## 5. Conclusions"
   ]
  },
  {
   "cell_type": "markdown",
   "metadata": {},
   "source": [
    "1. This exploratory data analysis helps us to understand chances of women to get dignosed with Breastcancer with ages and how survival is getting impacted with number of positive axillary nodes.\n",
    "2. The dataset contains 306 cases from a study that was conducted between 1958 and 1970 at the University of Chicago's Billings Hospital on the survival of patients who had undergone surgery for breast cancer.\n",
    "3. From the analyis, it was concluded that, there is very high chance, with the increase of age cancer can spread to more lymph nodes and leads to less survival rate"
   ]
  }
 ],
 "metadata": {
  "kernelspec": {
   "display_name": "Python 3",
   "language": "python",
   "name": "python3"
  },
  "language_info": {
   "codemirror_mode": {
    "name": "ipython",
    "version": 3
   },
   "file_extension": ".py",
   "mimetype": "text/x-python",
   "name": "python",
   "nbconvert_exporter": "python",
   "pygments_lexer": "ipython3",
   "version": "3.7.3"
  }
 },
 "nbformat": 4,
 "nbformat_minor": 2
}
